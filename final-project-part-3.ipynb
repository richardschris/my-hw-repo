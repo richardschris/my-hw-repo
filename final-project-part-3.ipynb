{
 "cells": [
  {
   "cell_type": "code",
   "execution_count": 1,
   "metadata": {
    "collapsed": false
   },
   "outputs": [
    {
     "name": "stderr",
     "output_type": "stream",
     "text": [
      "/Users/Chris/py_env/lib/python2.7/site-packages/IPython/core/interactiveshell.py:2717: DtypeWarning: Columns (5,11) have mixed types. Specify dtype option on import or set low_memory=False.\n",
      "  interactivity=interactivity, compiler=compiler, result=result)\n"
     ]
    }
   ],
   "source": [
    "import pandas as pd\n",
    "# if you want this data set, head here https://www.consumerfinance.gov/data-research/consumer-complaints/#download-the-data\n",
    "complaints = pd.read_csv('complaints.csv')"
   ]
  },
  {
   "cell_type": "code",
   "execution_count": 2,
   "metadata": {
    "collapsed": false
   },
   "outputs": [
    {
     "data": {
      "text/html": [
       "<div>\n",
       "<table border=\"1\" class=\"dataframe\">\n",
       "  <thead>\n",
       "    <tr style=\"text-align: right;\">\n",
       "      <th></th>\n",
       "      <th>Date received</th>\n",
       "      <th>Product</th>\n",
       "      <th>Sub-product</th>\n",
       "      <th>Issue</th>\n",
       "      <th>Sub-issue</th>\n",
       "      <th>Consumer complaint narrative</th>\n",
       "      <th>Company public response</th>\n",
       "      <th>Company</th>\n",
       "      <th>State</th>\n",
       "      <th>ZIP code</th>\n",
       "      <th>Tags</th>\n",
       "      <th>Consumer consent provided?</th>\n",
       "      <th>Submitted via</th>\n",
       "      <th>Date sent to company</th>\n",
       "      <th>Company response to consumer</th>\n",
       "      <th>Timely response?</th>\n",
       "      <th>Consumer disputed?</th>\n",
       "      <th>Complaint ID</th>\n",
       "    </tr>\n",
       "  </thead>\n",
       "  <tbody>\n",
       "    <tr>\n",
       "      <th>0</th>\n",
       "      <td>07/29/2013</td>\n",
       "      <td>Consumer Loan</td>\n",
       "      <td>Vehicle loan</td>\n",
       "      <td>Managing the loan or lease</td>\n",
       "      <td>NaN</td>\n",
       "      <td>NaN</td>\n",
       "      <td>NaN</td>\n",
       "      <td>Wells Fargo &amp; Company</td>\n",
       "      <td>VA</td>\n",
       "      <td>24540</td>\n",
       "      <td>NaN</td>\n",
       "      <td>NaN</td>\n",
       "      <td>Phone</td>\n",
       "      <td>07/30/2013</td>\n",
       "      <td>Closed with explanation</td>\n",
       "      <td>Yes</td>\n",
       "      <td>No</td>\n",
       "      <td>468882</td>\n",
       "    </tr>\n",
       "    <tr>\n",
       "      <th>1</th>\n",
       "      <td>07/29/2013</td>\n",
       "      <td>Bank account or service</td>\n",
       "      <td>Checking account</td>\n",
       "      <td>Using a debit or ATM card</td>\n",
       "      <td>NaN</td>\n",
       "      <td>NaN</td>\n",
       "      <td>NaN</td>\n",
       "      <td>Wells Fargo &amp; Company</td>\n",
       "      <td>CA</td>\n",
       "      <td>95992</td>\n",
       "      <td>Older American</td>\n",
       "      <td>NaN</td>\n",
       "      <td>Web</td>\n",
       "      <td>07/31/2013</td>\n",
       "      <td>Closed with explanation</td>\n",
       "      <td>Yes</td>\n",
       "      <td>No</td>\n",
       "      <td>468889</td>\n",
       "    </tr>\n",
       "    <tr>\n",
       "      <th>2</th>\n",
       "      <td>07/29/2013</td>\n",
       "      <td>Bank account or service</td>\n",
       "      <td>Checking account</td>\n",
       "      <td>Account opening, closing, or management</td>\n",
       "      <td>NaN</td>\n",
       "      <td>NaN</td>\n",
       "      <td>NaN</td>\n",
       "      <td>Santander Bank US</td>\n",
       "      <td>NY</td>\n",
       "      <td>10065</td>\n",
       "      <td>NaN</td>\n",
       "      <td>NaN</td>\n",
       "      <td>Fax</td>\n",
       "      <td>07/31/2013</td>\n",
       "      <td>Closed</td>\n",
       "      <td>Yes</td>\n",
       "      <td>No</td>\n",
       "      <td>468879</td>\n",
       "    </tr>\n",
       "    <tr>\n",
       "      <th>3</th>\n",
       "      <td>07/29/2013</td>\n",
       "      <td>Bank account or service</td>\n",
       "      <td>Checking account</td>\n",
       "      <td>Deposits and withdrawals</td>\n",
       "      <td>NaN</td>\n",
       "      <td>NaN</td>\n",
       "      <td>NaN</td>\n",
       "      <td>Wells Fargo &amp; Company</td>\n",
       "      <td>GA</td>\n",
       "      <td>30084</td>\n",
       "      <td>NaN</td>\n",
       "      <td>NaN</td>\n",
       "      <td>Web</td>\n",
       "      <td>07/30/2013</td>\n",
       "      <td>Closed with explanation</td>\n",
       "      <td>Yes</td>\n",
       "      <td>No</td>\n",
       "      <td>468949</td>\n",
       "    </tr>\n",
       "    <tr>\n",
       "      <th>4</th>\n",
       "      <td>07/29/2013</td>\n",
       "      <td>Mortgage</td>\n",
       "      <td>Conventional fixed mortgage</td>\n",
       "      <td>Loan servicing, payments, escrow account</td>\n",
       "      <td>NaN</td>\n",
       "      <td>NaN</td>\n",
       "      <td>NaN</td>\n",
       "      <td>Franklin Credit Management</td>\n",
       "      <td>CT</td>\n",
       "      <td>06106</td>\n",
       "      <td>NaN</td>\n",
       "      <td>NaN</td>\n",
       "      <td>Web</td>\n",
       "      <td>07/30/2013</td>\n",
       "      <td>Closed with explanation</td>\n",
       "      <td>Yes</td>\n",
       "      <td>No</td>\n",
       "      <td>475823</td>\n",
       "    </tr>\n",
       "  </tbody>\n",
       "</table>\n",
       "</div>"
      ],
      "text/plain": [
       "  Date received                  Product                  Sub-product  \\\n",
       "0    07/29/2013            Consumer Loan                 Vehicle loan   \n",
       "1    07/29/2013  Bank account or service             Checking account   \n",
       "2    07/29/2013  Bank account or service             Checking account   \n",
       "3    07/29/2013  Bank account or service             Checking account   \n",
       "4    07/29/2013                 Mortgage  Conventional fixed mortgage   \n",
       "\n",
       "                                      Issue Sub-issue  \\\n",
       "0                Managing the loan or lease       NaN   \n",
       "1                 Using a debit or ATM card       NaN   \n",
       "2   Account opening, closing, or management       NaN   \n",
       "3                  Deposits and withdrawals       NaN   \n",
       "4  Loan servicing, payments, escrow account       NaN   \n",
       "\n",
       "  Consumer complaint narrative Company public response  \\\n",
       "0                          NaN                     NaN   \n",
       "1                          NaN                     NaN   \n",
       "2                          NaN                     NaN   \n",
       "3                          NaN                     NaN   \n",
       "4                          NaN                     NaN   \n",
       "\n",
       "                      Company State ZIP code            Tags  \\\n",
       "0       Wells Fargo & Company    VA    24540             NaN   \n",
       "1       Wells Fargo & Company    CA    95992  Older American   \n",
       "2           Santander Bank US    NY    10065             NaN   \n",
       "3       Wells Fargo & Company    GA    30084             NaN   \n",
       "4  Franklin Credit Management    CT    06106             NaN   \n",
       "\n",
       "  Consumer consent provided? Submitted via Date sent to company  \\\n",
       "0                        NaN         Phone           07/30/2013   \n",
       "1                        NaN           Web           07/31/2013   \n",
       "2                        NaN           Fax           07/31/2013   \n",
       "3                        NaN           Web           07/30/2013   \n",
       "4                        NaN           Web           07/30/2013   \n",
       "\n",
       "  Company response to consumer Timely response? Consumer disputed?  \\\n",
       "0      Closed with explanation              Yes                 No   \n",
       "1      Closed with explanation              Yes                 No   \n",
       "2                       Closed              Yes                 No   \n",
       "3      Closed with explanation              Yes                 No   \n",
       "4      Closed with explanation              Yes                 No   \n",
       "\n",
       "   Complaint ID  \n",
       "0        468882  \n",
       "1        468889  \n",
       "2        468879  \n",
       "3        468949  \n",
       "4        475823  "
      ]
     },
     "execution_count": 2,
     "metadata": {},
     "output_type": "execute_result"
    }
   ],
   "source": [
    "complaints.head()"
   ]
  },
  {
   "cell_type": "code",
   "execution_count": 3,
   "metadata": {
    "collapsed": false
   },
   "outputs": [
    {
     "data": {
      "text/plain": [
       "<matplotlib.axes._subplots.AxesSubplot at 0x111f477d0>"
      ]
     },
     "execution_count": 3,
     "metadata": {},
     "output_type": "execute_result"
    }
   ],
   "source": [
    "complaints['Product'].value_counts().plot(kind='bar')"
   ]
  },
  {
   "cell_type": "code",
   "execution_count": 4,
   "metadata": {
    "collapsed": false
   },
   "outputs": [
    {
     "data": {
      "text/plain": [
       "<matplotlib.axes._subplots.AxesSubplot at 0x114c18ed0>"
      ]
     },
     "execution_count": 4,
     "metadata": {},
     "output_type": "execute_result"
    },
    {
     "data": {
      "image/png": "[encoded data removed]",
      "text/plain": [
       "<matplotlib.figure.Figure at 0x114c18610>"
      ]
     },
     "metadata": {},
     "output_type": "display_data"
    }
   ],
   "source": [
    "%matplotlib inline\n",
    "import matplotlib.pyplot as plt\n",
    "import seaborn as sns\n",
    "# list of states ordered by population\n",
    "states_pop = ['CA', 'TX', 'FL', 'NY', 'PA', 'IL', 'OH', 'GA', 'NC', 'MI', 'NJ', 'VA', 'WA', \n",
    "              'AZ', 'MA', 'TN', 'IN', 'MO', 'MD', 'WI', 'CO', 'MN', 'SC', 'AL', 'LA', 'KY',\n",
    "              'OR', 'OK', 'CT', 'IA', 'UT', 'MS', 'AR', 'NV', 'KS', 'NM', 'NE', 'WV', 'ID',\n",
    "              'HI', 'NH', 'ME', 'RI', 'MT', 'DE', 'SD', 'ND', 'AK', 'VT', 'WY']\n",
    "plt.figure(figsize=(20, 15))\n",
    "sns.barplot(x=complaints['State'].value_counts().index, y=complaints['State'].value_counts(normalize=True), order=states_pop)"
   ]
  },
  {
   "cell_type": "markdown",
   "metadata": {},
   "source": [
    "There's a correlation between population and number of complaints, but some states are outliers. Why do states like GA, NJ, MD, NV, and DE punch above their weight, so to speak?"
   ]
  },
  {
   "cell_type": "code",
   "execution_count": 5,
   "metadata": {
    "collapsed": false
   },
   "outputs": [
    {
     "name": "stdout",
     "output_type": "stream",
     "text": [
      "No     0.791632\n",
      "Yes    0.208368\n",
      "Name: Consumer disputed?, dtype: float64\n"
     ]
    }
   ],
   "source": [
    "disputed = complaints['Consumer disputed?'].dropna().value_counts(normalize=True)\n",
    "print disputed"
   ]
  },
  {
   "cell_type": "code",
   "execution_count": 6,
   "metadata": {
    "collapsed": false
   },
   "outputs": [
    {
     "name": "stdout",
     "output_type": "stream",
     "text": [
      "Consumer Loan\n",
      "  percentage not disputing: 76.53%\n",
      "  percentage disputing: 23.47%\n",
      "Bank account or service\n",
      "  percentage not disputing: 80.09%\n",
      "  percentage disputing: 19.91%\n",
      "Mortgage\n",
      "  percentage not disputing: 76.24%\n",
      "  percentage disputing: 23.76%\n",
      "Debt collection\n",
      "  percentage not disputing: 80.66%\n",
      "  percentage disputing: 19.34%\n",
      "Credit card\n",
      "  percentage not disputing: 78.42%\n",
      "  percentage disputing: 21.58%\n",
      "Credit reporting\n",
      "  percentage not disputing: 82.79%\n",
      "  percentage disputing: 17.21%\n",
      "Student loan\n",
      "  percentage not disputing: 79.01%\n",
      "  percentage disputing: 20.99%\n",
      "Money transfers\n",
      "  percentage not disputing: 84.88%\n",
      "  percentage disputing: 15.12%\n",
      "Payday loan\n",
      "  percentage not disputing: 83.50%\n",
      "  percentage disputing: 16.50%\n",
      "Other financial service\n",
      "  percentage not disputing: 78.32%\n",
      "  percentage disputing: 21.68%\n",
      "Prepaid card\n",
      "  percentage not disputing: 84.90%\n",
      "  percentage disputing: 15.10%\n",
      "Virtual currency\n",
      "  percentage not disputing: 60.00%\n",
      "  percentage disputing: 40.00%\n"
     ]
    }
   ],
   "source": [
    "products = complaints['Product'].unique()\n",
    "for product in products:\n",
    "    complaint_for_product = complaints[complaints['Product'] == product]['Consumer disputed?'].dropna()\n",
    "    print product\n",
    "    print '  percentage not disputing: {:.2f}%'.format(float(complaint_for_product.value_counts()[0])/complaint_for_product.shape[0] * 100)\n",
    "    print '  percentage disputing: {:.2f}%'.format(float(complaint_for_product.value_counts()[1])/complaint_for_product.shape[0] * 100)"
   ]
  },
  {
   "cell_type": "markdown",
   "metadata": {},
   "source": [
    "Some products have higher dispute rates than others? What causes this?"
   ]
  },
  {
   "cell_type": "code",
   "execution_count": 7,
   "metadata": {
    "collapsed": false
   },
   "outputs": [
    {
     "data": {
      "text/html": [
       "<div>\n",
       "<table border=\"1\" class=\"dataframe\">\n",
       "  <thead>\n",
       "    <tr>\n",
       "      <th>Timely response?</th>\n",
       "      <th colspan=\"2\" halign=\"left\">No</th>\n",
       "      <th colspan=\"2\" halign=\"left\">Yes</th>\n",
       "    </tr>\n",
       "    <tr>\n",
       "      <th>Consumer disputed?</th>\n",
       "      <th>No</th>\n",
       "      <th>Yes</th>\n",
       "      <th>No</th>\n",
       "      <th>Yes</th>\n",
       "    </tr>\n",
       "    <tr>\n",
       "      <th>Product</th>\n",
       "      <th></th>\n",
       "      <th></th>\n",
       "      <th></th>\n",
       "      <th></th>\n",
       "    </tr>\n",
       "  </thead>\n",
       "  <tbody>\n",
       "    <tr>\n",
       "      <th>Bank account or service</th>\n",
       "      <td>1.138256</td>\n",
       "      <td>0.298989</td>\n",
       "      <td>78.956686</td>\n",
       "      <td>19.606069</td>\n",
       "    </tr>\n",
       "    <tr>\n",
       "      <th>Consumer Loan</th>\n",
       "      <td>1.980235</td>\n",
       "      <td>0.537331</td>\n",
       "      <td>74.550032</td>\n",
       "      <td>22.932401</td>\n",
       "    </tr>\n",
       "    <tr>\n",
       "      <th>Credit card</th>\n",
       "      <td>0.588147</td>\n",
       "      <td>0.158010</td>\n",
       "      <td>77.831005</td>\n",
       "      <td>21.422839</td>\n",
       "    </tr>\n",
       "    <tr>\n",
       "      <th>Credit reporting</th>\n",
       "      <td>0.079948</td>\n",
       "      <td>0.018711</td>\n",
       "      <td>82.705654</td>\n",
       "      <td>17.195686</td>\n",
       "    </tr>\n",
       "    <tr>\n",
       "      <th>Debt collection</th>\n",
       "      <td>3.981705</td>\n",
       "      <td>0.783273</td>\n",
       "      <td>76.679054</td>\n",
       "      <td>18.555968</td>\n",
       "    </tr>\n",
       "    <tr>\n",
       "      <th>Money transfers</th>\n",
       "      <td>1.205584</td>\n",
       "      <td>0.317259</td>\n",
       "      <td>83.671743</td>\n",
       "      <td>14.805415</td>\n",
       "    </tr>\n",
       "    <tr>\n",
       "      <th>Mortgage</th>\n",
       "      <td>1.132029</td>\n",
       "      <td>0.359496</td>\n",
       "      <td>75.107323</td>\n",
       "      <td>23.401153</td>\n",
       "    </tr>\n",
       "    <tr>\n",
       "      <th>Other financial service</th>\n",
       "      <td>5.137845</td>\n",
       "      <td>0.877193</td>\n",
       "      <td>73.182957</td>\n",
       "      <td>20.802005</td>\n",
       "    </tr>\n",
       "    <tr>\n",
       "      <th>Payday loan</th>\n",
       "      <td>4.825038</td>\n",
       "      <td>0.760704</td>\n",
       "      <td>78.678548</td>\n",
       "      <td>15.735710</td>\n",
       "    </tr>\n",
       "    <tr>\n",
       "      <th>Prepaid card</th>\n",
       "      <td>0.809717</td>\n",
       "      <td>0.342572</td>\n",
       "      <td>84.085955</td>\n",
       "      <td>14.761756</td>\n",
       "    </tr>\n",
       "    <tr>\n",
       "      <th>Student loan</th>\n",
       "      <td>0.907391</td>\n",
       "      <td>0.209749</td>\n",
       "      <td>78.099494</td>\n",
       "      <td>20.783366</td>\n",
       "    </tr>\n",
       "  </tbody>\n",
       "</table>\n",
       "</div>"
      ],
      "text/plain": [
       "Timely response?               No                  Yes           \n",
       "Consumer disputed?             No       Yes         No        Yes\n",
       "Product                                                          \n",
       "Bank account or service  1.138256  0.298989  78.956686  19.606069\n",
       "Consumer Loan            1.980235  0.537331  74.550032  22.932401\n",
       "Credit card              0.588147  0.158010  77.831005  21.422839\n",
       "Credit reporting         0.079948  0.018711  82.705654  17.195686\n",
       "Debt collection          3.981705  0.783273  76.679054  18.555968\n",
       "Money transfers          1.205584  0.317259  83.671743  14.805415\n",
       "Mortgage                 1.132029  0.359496  75.107323  23.401153\n",
       "Other financial service  5.137845  0.877193  73.182957  20.802005\n",
       "Payday loan              4.825038  0.760704  78.678548  15.735710\n",
       "Prepaid card             0.809717  0.342572  84.085955  14.761756\n",
       "Student loan             0.907391  0.209749  78.099494  20.783366"
      ]
     },
     "execution_count": 7,
     "metadata": {},
     "output_type": "execute_result"
    }
   ],
   "source": [
    "c = complaints.drop(complaints[complaints['Product'] == 'Virtual currency'].index)\n",
    "g = pd.crosstab(c['Product'], [c['Timely response?'], c['Consumer disputed?']], normalize='index') * 100\n",
    "c['Tags'].fillna('None', inplace=True)\n",
    "g"
   ]
  },
  {
   "cell_type": "code",
   "execution_count": 8,
   "metadata": {
    "collapsed": false
   },
   "outputs": [
    {
     "data": {
      "text/plain": [
       "<matplotlib.axes._subplots.AxesSubplot at 0x11210c950>"
      ]
     },
     "execution_count": 8,
     "metadata": {},
     "output_type": "execute_result"
    },
    {
     "data": {
      "image/png": "[encoded data removed]",
      "text/plain": [
       "<matplotlib.figure.Figure at 0x114dab7d0>"
      ]
     },
     "metadata": {},
     "output_type": "display_data"
    }
   ],
   "source": [
    "g.plot(kind='bar', stacked=True, grid=False, figsize=(20,20))"
   ]
  },
  {
   "cell_type": "markdown",
   "metadata": {},
   "source": [
    "This chart helps us visualize timeliness vs untimeliness and disputed vs undisputed responses. What causes some industries to have higher numbers of untimely responses?"
   ]
  },
  {
   "cell_type": "code",
   "execution_count": 9,
   "metadata": {
    "collapsed": false
   },
   "outputs": [
    {
     "data": {
      "text/html": [
       "<div>\n",
       "<table border=\"1\" class=\"dataframe\">\n",
       "  <thead>\n",
       "    <tr>\n",
       "      <th>Timely response?</th>\n",
       "      <th colspan=\"2\" halign=\"left\">No</th>\n",
       "      <th colspan=\"2\" halign=\"left\">Yes</th>\n",
       "    </tr>\n",
       "    <tr>\n",
       "      <th>Consumer disputed?</th>\n",
       "      <th>No</th>\n",
       "      <th>Yes</th>\n",
       "      <th>No</th>\n",
       "      <th>Yes</th>\n",
       "    </tr>\n",
       "    <tr>\n",
       "      <th>Product</th>\n",
       "      <th></th>\n",
       "      <th></th>\n",
       "      <th></th>\n",
       "      <th></th>\n",
       "    </tr>\n",
       "  </thead>\n",
       "  <tbody>\n",
       "    <tr>\n",
       "      <th>Bank account or service</th>\n",
       "      <td>8.906218</td>\n",
       "      <td>9.726962</td>\n",
       "      <td>11.615995</td>\n",
       "      <td>10.941331</td>\n",
       "    </tr>\n",
       "    <tr>\n",
       "      <th>Consumer Loan</th>\n",
       "      <td>5.407347</td>\n",
       "      <td>6.100683</td>\n",
       "      <td>3.827626</td>\n",
       "      <td>4.466252</td>\n",
       "    </tr>\n",
       "    <tr>\n",
       "      <th>Credit card</th>\n",
       "      <td>4.812231</td>\n",
       "      <td>5.375427</td>\n",
       "      <td>11.973677</td>\n",
       "      <td>12.501555</td>\n",
       "    </tr>\n",
       "    <tr>\n",
       "      <th>Credit reporting</th>\n",
       "      <td>0.964498</td>\n",
       "      <td>0.938567</td>\n",
       "      <td>18.760382</td>\n",
       "      <td>14.795788</td>\n",
       "    </tr>\n",
       "    <tr>\n",
       "      <th>Debt collection</th>\n",
       "      <td>50.020521</td>\n",
       "      <td>40.912969</td>\n",
       "      <td>18.112155</td>\n",
       "      <td>16.626051</td>\n",
       "    </tr>\n",
       "    <tr>\n",
       "      <th>Money transfers</th>\n",
       "      <td>0.584855</td>\n",
       "      <td>0.639932</td>\n",
       "      <td>0.763210</td>\n",
       "      <td>0.512269</td>\n",
       "    </tr>\n",
       "    <tr>\n",
       "      <th>Mortgage</th>\n",
       "      <td>24.297148</td>\n",
       "      <td>32.081911</td>\n",
       "      <td>30.310589</td>\n",
       "      <td>35.822960</td>\n",
       "    </tr>\n",
       "    <tr>\n",
       "      <th>Other financial service</th>\n",
       "      <td>0.420685</td>\n",
       "      <td>0.298635</td>\n",
       "      <td>0.112668</td>\n",
       "      <td>0.121481</td>\n",
       "    </tr>\n",
       "    <tr>\n",
       "      <th>Payday loan</th>\n",
       "      <td>2.277858</td>\n",
       "      <td>1.493174</td>\n",
       "      <td>0.698387</td>\n",
       "      <td>0.529832</td>\n",
       "    </tr>\n",
       "    <tr>\n",
       "      <th>Prepaid card</th>\n",
       "      <td>0.266776</td>\n",
       "      <td>0.469283</td>\n",
       "      <td>0.520897</td>\n",
       "      <td>0.346879</td>\n",
       "    </tr>\n",
       "    <tr>\n",
       "      <th>Student loan</th>\n",
       "      <td>2.041863</td>\n",
       "      <td>1.962457</td>\n",
       "      <td>3.304414</td>\n",
       "      <td>3.335602</td>\n",
       "    </tr>\n",
       "  </tbody>\n",
       "</table>\n",
       "</div>"
      ],
      "text/plain": [
       "Timely response?                No                   Yes           \n",
       "Consumer disputed?              No        Yes         No        Yes\n",
       "Product                                                            \n",
       "Bank account or service   8.906218   9.726962  11.615995  10.941331\n",
       "Consumer Loan             5.407347   6.100683   3.827626   4.466252\n",
       "Credit card               4.812231   5.375427  11.973677  12.501555\n",
       "Credit reporting          0.964498   0.938567  18.760382  14.795788\n",
       "Debt collection          50.020521  40.912969  18.112155  16.626051\n",
       "Money transfers           0.584855   0.639932   0.763210   0.512269\n",
       "Mortgage                 24.297148  32.081911  30.310589  35.822960\n",
       "Other financial service   0.420685   0.298635   0.112668   0.121481\n",
       "Payday loan               2.277858   1.493174   0.698387   0.529832\n",
       "Prepaid card              0.266776   0.469283   0.520897   0.346879\n",
       "Student loan              2.041863   1.962457   3.304414   3.335602"
      ]
     },
     "execution_count": 9,
     "metadata": {},
     "output_type": "execute_result"
    }
   ],
   "source": [
    "h = pd.crosstab(c['Product'], [c['Timely response?'], c['Consumer disputed?']], normalize='columns') * 100\n",
    "h"
   ]
  },
  {
   "cell_type": "code",
   "execution_count": 10,
   "metadata": {
    "collapsed": false
   },
   "outputs": [
    {
     "data": {
      "text/plain": [
       "<matplotlib.axes._subplots.AxesSubplot at 0x111568b10>"
      ]
     },
     "execution_count": 10,
     "metadata": {},
     "output_type": "execute_result"
    },
    {
     "data": {
      "image/png": "[encoded data removed]",
      "text/plain": [
       "<matplotlib.figure.Figure at 0x114e0a810>"
      ]
     },
     "metadata": {},
     "output_type": "display_data"
    }
   ],
   "source": [
    "sns.heatmap(g, annot=g*100)"
   ]
  },
  {
   "cell_type": "markdown",
   "metadata": {},
   "source": [
    "Nothing particularly interesting pops out here, that we didn't see above"
   ]
  },
  {
   "cell_type": "code",
   "execution_count": 11,
   "metadata": {
    "collapsed": false
   },
   "outputs": [
    {
     "data": {
      "text/html": [
       "<div>\n",
       "<table border=\"1\" class=\"dataframe\">\n",
       "  <thead>\n",
       "    <tr>\n",
       "      <th>Tags</th>\n",
       "      <th colspan=\"4\" halign=\"left\">None</th>\n",
       "      <th colspan=\"4\" halign=\"left\">Older American</th>\n",
       "      <th colspan=\"4\" halign=\"left\">Older American, Servicemember</th>\n",
       "      <th colspan=\"4\" halign=\"left\">Servicemember</th>\n",
       "    </tr>\n",
       "    <tr>\n",
       "      <th>Timely response?</th>\n",
       "      <th colspan=\"2\" halign=\"left\">No</th>\n",
       "      <th colspan=\"2\" halign=\"left\">Yes</th>\n",
       "      <th colspan=\"2\" halign=\"left\">No</th>\n",
       "      <th colspan=\"2\" halign=\"left\">Yes</th>\n",
       "      <th colspan=\"2\" halign=\"left\">No</th>\n",
       "      <th colspan=\"2\" halign=\"left\">Yes</th>\n",
       "      <th colspan=\"2\" halign=\"left\">No</th>\n",
       "      <th colspan=\"2\" halign=\"left\">Yes</th>\n",
       "    </tr>\n",
       "    <tr>\n",
       "      <th>Consumer disputed?</th>\n",
       "      <th>No</th>\n",
       "      <th>Yes</th>\n",
       "      <th>No</th>\n",
       "      <th>Yes</th>\n",
       "      <th>No</th>\n",
       "      <th>Yes</th>\n",
       "      <th>No</th>\n",
       "      <th>Yes</th>\n",
       "      <th>No</th>\n",
       "      <th>Yes</th>\n",
       "      <th>No</th>\n",
       "      <th>Yes</th>\n",
       "      <th>No</th>\n",
       "      <th>Yes</th>\n",
       "      <th>No</th>\n",
       "      <th>Yes</th>\n",
       "    </tr>\n",
       "    <tr>\n",
       "      <th>Submitted via</th>\n",
       "      <th></th>\n",
       "      <th></th>\n",
       "      <th></th>\n",
       "      <th></th>\n",
       "      <th></th>\n",
       "      <th></th>\n",
       "      <th></th>\n",
       "      <th></th>\n",
       "      <th></th>\n",
       "      <th></th>\n",
       "      <th></th>\n",
       "      <th></th>\n",
       "      <th></th>\n",
       "      <th></th>\n",
       "      <th></th>\n",
       "      <th></th>\n",
       "    </tr>\n",
       "  </thead>\n",
       "  <tbody>\n",
       "    <tr>\n",
       "      <th>Email</th>\n",
       "      <td>0.035980</td>\n",
       "      <td>0.050201</td>\n",
       "      <td>0.057634</td>\n",
       "      <td>0.057482</td>\n",
       "      <td>0.000000</td>\n",
       "      <td>0.000000</td>\n",
       "      <td>0.007119</td>\n",
       "      <td>0.008513</td>\n",
       "      <td>0.000000</td>\n",
       "      <td>0.000000</td>\n",
       "      <td>0.000000</td>\n",
       "      <td>0.063532</td>\n",
       "      <td>0.000000</td>\n",
       "      <td>0.000000</td>\n",
       "      <td>0.020527</td>\n",
       "      <td>0.029551</td>\n",
       "    </tr>\n",
       "    <tr>\n",
       "      <th>Fax</th>\n",
       "      <td>1.235308</td>\n",
       "      <td>1.204819</td>\n",
       "      <td>1.433909</td>\n",
       "      <td>1.443058</td>\n",
       "      <td>1.437700</td>\n",
       "      <td>3.508772</td>\n",
       "      <td>1.497461</td>\n",
       "      <td>1.821742</td>\n",
       "      <td>2.500000</td>\n",
       "      <td>0.000000</td>\n",
       "      <td>2.665767</td>\n",
       "      <td>1.905972</td>\n",
       "      <td>0.151057</td>\n",
       "      <td>3.246753</td>\n",
       "      <td>1.334264</td>\n",
       "      <td>0.901300</td>\n",
       "    </tr>\n",
       "    <tr>\n",
       "      <th>Phone</th>\n",
       "      <td>6.608299</td>\n",
       "      <td>4.718876</td>\n",
       "      <td>5.721058</td>\n",
       "      <td>4.371214</td>\n",
       "      <td>21.405751</td>\n",
       "      <td>10.526316</td>\n",
       "      <td>17.976648</td>\n",
       "      <td>13.152294</td>\n",
       "      <td>35.000000</td>\n",
       "      <td>14.814815</td>\n",
       "      <td>35.228615</td>\n",
       "      <td>25.984752</td>\n",
       "      <td>13.293051</td>\n",
       "      <td>4.545455</td>\n",
       "      <td>13.461696</td>\n",
       "      <td>9.338061</td>\n",
       "    </tr>\n",
       "    <tr>\n",
       "      <th>Postal mail</th>\n",
       "      <td>4.161669</td>\n",
       "      <td>3.263052</td>\n",
       "      <td>7.302305</td>\n",
       "      <td>4.371214</td>\n",
       "      <td>3.674121</td>\n",
       "      <td>6.432749</td>\n",
       "      <td>7.503916</td>\n",
       "      <td>5.839789</td>\n",
       "      <td>7.500000</td>\n",
       "      <td>7.407407</td>\n",
       "      <td>8.284124</td>\n",
       "      <td>10.864041</td>\n",
       "      <td>2.567976</td>\n",
       "      <td>0.649351</td>\n",
       "      <td>2.795796</td>\n",
       "      <td>2.497045</td>\n",
       "    </tr>\n",
       "    <tr>\n",
       "      <th>Referral</th>\n",
       "      <td>15.543296</td>\n",
       "      <td>12.500000</td>\n",
       "      <td>21.392914</td>\n",
       "      <td>16.793356</td>\n",
       "      <td>3.993610</td>\n",
       "      <td>5.263158</td>\n",
       "      <td>6.723148</td>\n",
       "      <td>5.763174</td>\n",
       "      <td>4.166667</td>\n",
       "      <td>7.407407</td>\n",
       "      <td>4.892863</td>\n",
       "      <td>5.527319</td>\n",
       "      <td>3.172205</td>\n",
       "      <td>5.194805</td>\n",
       "      <td>5.817391</td>\n",
       "      <td>5.289598</td>\n",
       "    </tr>\n",
       "    <tr>\n",
       "      <th>Web</th>\n",
       "      <td>72.415447</td>\n",
       "      <td>78.263052</td>\n",
       "      <td>64.092179</td>\n",
       "      <td>72.963675</td>\n",
       "      <td>69.488818</td>\n",
       "      <td>74.269006</td>\n",
       "      <td>66.291708</td>\n",
       "      <td>73.414489</td>\n",
       "      <td>50.833333</td>\n",
       "      <td>70.370370</td>\n",
       "      <td>48.928632</td>\n",
       "      <td>55.654384</td>\n",
       "      <td>80.815710</td>\n",
       "      <td>86.363636</td>\n",
       "      <td>76.570326</td>\n",
       "      <td>81.944444</td>\n",
       "    </tr>\n",
       "  </tbody>\n",
       "</table>\n",
       "</div>"
      ],
      "text/plain": [
       "Tags                     None                                  Older American  \\\n",
       "Timely response?           No                   Yes                        No   \n",
       "Consumer disputed?         No        Yes         No        Yes             No   \n",
       "Submitted via                                                                   \n",
       "Email                0.035980   0.050201   0.057634   0.057482       0.000000   \n",
       "Fax                  1.235308   1.204819   1.433909   1.443058       1.437700   \n",
       "Phone                6.608299   4.718876   5.721058   4.371214      21.405751   \n",
       "Postal mail          4.161669   3.263052   7.302305   4.371214       3.674121   \n",
       "Referral            15.543296  12.500000  21.392914  16.793356       3.993610   \n",
       "Web                 72.415447  78.263052  64.092179  72.963675      69.488818   \n",
       "\n",
       "Tags                                                 \\\n",
       "Timely response?                     Yes              \n",
       "Consumer disputed?        Yes         No        Yes   \n",
       "Submitted via                                         \n",
       "Email                0.000000   0.007119   0.008513   \n",
       "Fax                  3.508772   1.497461   1.821742   \n",
       "Phone               10.526316  17.976648  13.152294   \n",
       "Postal mail          6.432749   7.503916   5.839789   \n",
       "Referral             5.263158   6.723148   5.763174   \n",
       "Web                 74.269006  66.291708  73.414489   \n",
       "\n",
       "Tags               Older American, Servicemember                        \\\n",
       "Timely response?                              No                   Yes   \n",
       "Consumer disputed?                            No        Yes         No   \n",
       "Submitted via                                                            \n",
       "Email                                   0.000000   0.000000   0.000000   \n",
       "Fax                                     2.500000   0.000000   2.665767   \n",
       "Phone                                  35.000000  14.814815  35.228615   \n",
       "Postal mail                             7.500000   7.407407   8.284124   \n",
       "Referral                                4.166667   7.407407   4.892863   \n",
       "Web                                    50.833333  70.370370  48.928632   \n",
       "\n",
       "Tags                          Servicemember                                   \n",
       "Timely response?                         No                   Yes             \n",
       "Consumer disputed?        Yes            No        Yes         No        Yes  \n",
       "Submitted via                                                                 \n",
       "Email                0.063532      0.000000   0.000000   0.020527   0.029551  \n",
       "Fax                  1.905972      0.151057   3.246753   1.334264   0.901300  \n",
       "Phone               25.984752     13.293051   4.545455  13.461696   9.338061  \n",
       "Postal mail         10.864041      2.567976   0.649351   2.795796   2.497045  \n",
       "Referral             5.527319      3.172205   5.194805   5.817391   5.289598  \n",
       "Web                 55.654384     80.815710  86.363636  76.570326  81.944444  "
      ]
     },
     "execution_count": 11,
     "metadata": {},
     "output_type": "execute_result"
    }
   ],
   "source": [
    "v = pd.crosstab(c['Submitted via'], [c['Tags'], c['Timely response?'], c['Consumer disputed?']], normalize='columns') * 100\n",
    "v"
   ]
  },
  {
   "cell_type": "code",
   "execution_count": 12,
   "metadata": {
    "collapsed": false
   },
   "outputs": [
    {
     "data": {
      "text/plain": [
       "<matplotlib.axes._subplots.AxesSubplot at 0x112bc34d0>"
      ]
     },
     "execution_count": 12,
     "metadata": {},
     "output_type": "execute_result"
    },
    {
     "data": {
      "image/png": "[encoded data removed]",
      "text/plain": [
       "<matplotlib.figure.Figure at 0x11505bd90>"
      ]
     },
     "metadata": {},
     "output_type": "display_data"
    }
   ],
   "source": [
    "plt.figure(figsize=(20,20));\n",
    "\n",
    "sns.heatmap(v.T, annot=True)"
   ]
  },
  {
   "cell_type": "markdown",
   "metadata": {},
   "source": [
    "Different demographic groups tracked submit their complaints differently. And these get different responses, interestingly enough."
   ]
  },
  {
   "cell_type": "code",
   "execution_count": 13,
   "metadata": {
    "collapsed": false
   },
   "outputs": [
    {
     "name": "stdout",
     "output_type": "stream",
     "text": [
      "Closed with explanation            522320\n",
      "Closed with non-monetary relief     88291\n",
      "Closed with monetary relief         47581\n",
      "Closed without relief               17863\n",
      "Closed                              16228\n",
      "Closed with relief                   5298\n",
      "Untimely response                    4247\n",
      "In progress                          3534\n",
      "Name: Company response to consumer, dtype: int64\n"
     ]
    }
   ],
   "source": [
    "print complaints['Company response to consumer'].value_counts()"
   ]
  },
  {
   "cell_type": "markdown",
   "metadata": {},
   "source": [
    "Given the sheer volume of closed with explanation complaints compared to the other categories, it is unlikely that we can extract something incredibly useful from this."
   ]
  },
  {
   "cell_type": "code",
   "execution_count": 14,
   "metadata": {
    "collapsed": false
   },
   "outputs": [
    {
     "name": "stderr",
     "output_type": "stream",
     "text": [
      "/Users/Chris/py_env/lib/python2.7/site-packages/IPython/core/interactiveshell.py:2717: DtypeWarning: Columns (1,3,4,5,7,8,11,12,15,16,19,20,23,24,27,28,31,32,33,39,40,41,43,44,47,48,51,52,55,56,57,59,60,63,64,65,67,68,71,72,73,75,76,79,80,83,84,87,88,91,92,95,96,103,104,105,107,108,111,112,115,116,119,120,123,124,127,128,129,131,132,135,136,139,140,143,144,147,148,151,152,155,156,159,160,163,164,167,168,171,172,175,176,179,180,183,184,185,187,188,191,192,195,196,199,200,203,204,205,207,208,211,212,215,216,219,220,223,224,227,228,231,232,235,236,239,240,243,244,255,256,263,264,271,272,279,280,287,288,295,296,299,300,301,303,304,307,308,311,312,315,316,319,320,323,324,327,328,331,332,335,336,339,340,355,356,357,379,380,381,383,384,387,388,391,392,395,396,399,400,401,403,404,407,408,409,411,412,413,415,416,417,419,420,423,424,427,428,431,432,435,436,437,439,440,443,444,447,448,451,452,455,456,457,459,460,463,464,467,468,471,472) have mixed types. Specify dtype option on import or set low_memory=False.\n",
      "  interactivity=interactivity, compiler=compiler, result=result)\n"
     ]
    },
    {
     "data": {
      "text/html": [
       "<div>\n",
       "<table border=\"1\" class=\"dataframe\">\n",
       "  <thead>\n",
       "    <tr style=\"text-align: right;\">\n",
       "      <th></th>\n",
       "      <th>GEO.id</th>\n",
       "      <th>GEO.id2</th>\n",
       "      <th>GEO.display-label</th>\n",
       "      <th>HC01_VC03</th>\n",
       "      <th>HC02_VC03</th>\n",
       "      <th>HC03_VC03</th>\n",
       "      <th>HC04_VC03</th>\n",
       "      <th>HC01_VC04</th>\n",
       "      <th>HC02_VC04</th>\n",
       "      <th>HC03_VC04</th>\n",
       "      <th>...</th>\n",
       "      <th>HC03_VC178</th>\n",
       "      <th>HC04_VC178</th>\n",
       "      <th>HC01_VC179</th>\n",
       "      <th>HC02_VC179</th>\n",
       "      <th>HC03_VC179</th>\n",
       "      <th>HC04_VC179</th>\n",
       "      <th>HC01_VC180</th>\n",
       "      <th>HC02_VC180</th>\n",
       "      <th>HC03_VC180</th>\n",
       "      <th>HC04_VC180</th>\n",
       "    </tr>\n",
       "  </thead>\n",
       "  <tbody>\n",
       "    <tr>\n",
       "      <th>0</th>\n",
       "      <td>Id</td>\n",
       "      <td>Id2</td>\n",
       "      <td>Geography</td>\n",
       "      <td>Estimate; EMPLOYMENT STATUS - Population 16 ye...</td>\n",
       "      <td>Margin of Error; EMPLOYMENT STATUS - Populatio...</td>\n",
       "      <td>Percent; EMPLOYMENT STATUS - Population 16 yea...</td>\n",
       "      <td>Percent Margin of Error; EMPLOYMENT STATUS - P...</td>\n",
       "      <td>Estimate; EMPLOYMENT STATUS - Population 16 ye...</td>\n",
       "      <td>Margin of Error; EMPLOYMENT STATUS - Populatio...</td>\n",
       "      <td>Percent; EMPLOYMENT STATUS - Population 16 yea...</td>\n",
       "      <td>...</td>\n",
       "      <td>Percent; PERCENTAGE OF FAMILIES AND PEOPLE WHO...</td>\n",
       "      <td>Percent Margin of Error; PERCENTAGE OF FAMILIE...</td>\n",
       "      <td>Estimate; PERCENTAGE OF FAMILIES AND PEOPLE WH...</td>\n",
       "      <td>Margin of Error; PERCENTAGE OF FAMILIES AND PE...</td>\n",
       "      <td>Percent; PERCENTAGE OF FAMILIES AND PEOPLE WHO...</td>\n",
       "      <td>Percent Margin of Error; PERCENTAGE OF FAMILIE...</td>\n",
       "      <td>Estimate; PERCENTAGE OF FAMILIES AND PEOPLE WH...</td>\n",
       "      <td>Margin of Error; PERCENTAGE OF FAMILIES AND PE...</td>\n",
       "      <td>Percent; PERCENTAGE OF FAMILIES AND PEOPLE WHO...</td>\n",
       "      <td>Percent Margin of Error; PERCENTAGE OF FAMILIE...</td>\n",
       "    </tr>\n",
       "    <tr>\n",
       "      <th>1</th>\n",
       "      <td>8600000US00601</td>\n",
       "      <td>00601</td>\n",
       "      <td>ZCTA5 00601</td>\n",
       "      <td>14262</td>\n",
       "      <td>215</td>\n",
       "      <td>14262</td>\n",
       "      <td>(X)</td>\n",
       "      <td>6162</td>\n",
       "      <td>363</td>\n",
       "      <td>43.2</td>\n",
       "      <td>...</td>\n",
       "      <td>57.1</td>\n",
       "      <td>6.1</td>\n",
       "      <td>(X)</td>\n",
       "      <td>(X)</td>\n",
       "      <td>59.1</td>\n",
       "      <td>4.2</td>\n",
       "      <td>(X)</td>\n",
       "      <td>(X)</td>\n",
       "      <td>71.7</td>\n",
       "      <td>5.7</td>\n",
       "    </tr>\n",
       "    <tr>\n",
       "      <th>2</th>\n",
       "      <td>8600000US00602</td>\n",
       "      <td>00602</td>\n",
       "      <td>ZCTA5 00602</td>\n",
       "      <td>32723</td>\n",
       "      <td>195</td>\n",
       "      <td>32723</td>\n",
       "      <td>(X)</td>\n",
       "      <td>15289</td>\n",
       "      <td>588</td>\n",
       "      <td>46.7</td>\n",
       "      <td>...</td>\n",
       "      <td>43.0</td>\n",
       "      <td>4.8</td>\n",
       "      <td>(X)</td>\n",
       "      <td>(X)</td>\n",
       "      <td>52.5</td>\n",
       "      <td>3.1</td>\n",
       "      <td>(X)</td>\n",
       "      <td>(X)</td>\n",
       "      <td>65.8</td>\n",
       "      <td>5.3</td>\n",
       "    </tr>\n",
       "    <tr>\n",
       "      <th>3</th>\n",
       "      <td>8600000US00603</td>\n",
       "      <td>00603</td>\n",
       "      <td>ZCTA5 00603</td>\n",
       "      <td>42534</td>\n",
       "      <td>642</td>\n",
       "      <td>42534</td>\n",
       "      <td>(X)</td>\n",
       "      <td>17058</td>\n",
       "      <td>697</td>\n",
       "      <td>40.1</td>\n",
       "      <td>...</td>\n",
       "      <td>41.7</td>\n",
       "      <td>3.5</td>\n",
       "      <td>(X)</td>\n",
       "      <td>(X)</td>\n",
       "      <td>48.0</td>\n",
       "      <td>2.7</td>\n",
       "      <td>(X)</td>\n",
       "      <td>(X)</td>\n",
       "      <td>62.3</td>\n",
       "      <td>3.3</td>\n",
       "    </tr>\n",
       "    <tr>\n",
       "      <th>4</th>\n",
       "      <td>8600000US00606</td>\n",
       "      <td>00606</td>\n",
       "      <td>ZCTA5 00606</td>\n",
       "      <td>5041</td>\n",
       "      <td>229</td>\n",
       "      <td>5041</td>\n",
       "      <td>(X)</td>\n",
       "      <td>1679</td>\n",
       "      <td>256</td>\n",
       "      <td>33.3</td>\n",
       "      <td>...</td>\n",
       "      <td>45.1</td>\n",
       "      <td>11.7</td>\n",
       "      <td>(X)</td>\n",
       "      <td>(X)</td>\n",
       "      <td>63.4</td>\n",
       "      <td>7.0</td>\n",
       "      <td>(X)</td>\n",
       "      <td>(X)</td>\n",
       "      <td>70.3</td>\n",
       "      <td>9.3</td>\n",
       "    </tr>\n",
       "  </tbody>\n",
       "</table>\n",
       "<p>5 rows × 551 columns</p>\n",
       "</div>"
      ],
      "text/plain": [
       "           GEO.id GEO.id2 GEO.display-label  \\\n",
       "0              Id     Id2         Geography   \n",
       "1  8600000US00601   00601       ZCTA5 00601   \n",
       "2  8600000US00602   00602       ZCTA5 00602   \n",
       "3  8600000US00603   00603       ZCTA5 00603   \n",
       "4  8600000US00606   00606       ZCTA5 00606   \n",
       "\n",
       "                                           HC01_VC03  \\\n",
       "0  Estimate; EMPLOYMENT STATUS - Population 16 ye...   \n",
       "1                                              14262   \n",
       "2                                              32723   \n",
       "3                                              42534   \n",
       "4                                               5041   \n",
       "\n",
       "                                           HC02_VC03  \\\n",
       "0  Margin of Error; EMPLOYMENT STATUS - Populatio...   \n",
       "1                                                215   \n",
       "2                                                195   \n",
       "3                                                642   \n",
       "4                                                229   \n",
       "\n",
       "                                           HC03_VC03  \\\n",
       "0  Percent; EMPLOYMENT STATUS - Population 16 yea...   \n",
       "1                                              14262   \n",
       "2                                              32723   \n",
       "3                                              42534   \n",
       "4                                               5041   \n",
       "\n",
       "                                           HC04_VC03  \\\n",
       "0  Percent Margin of Error; EMPLOYMENT STATUS - P...   \n",
       "1                                                (X)   \n",
       "2                                                (X)   \n",
       "3                                                (X)   \n",
       "4                                                (X)   \n",
       "\n",
       "                                           HC01_VC04  \\\n",
       "0  Estimate; EMPLOYMENT STATUS - Population 16 ye...   \n",
       "1                                               6162   \n",
       "2                                              15289   \n",
       "3                                              17058   \n",
       "4                                               1679   \n",
       "\n",
       "                                           HC02_VC04  \\\n",
       "0  Margin of Error; EMPLOYMENT STATUS - Populatio...   \n",
       "1                                                363   \n",
       "2                                                588   \n",
       "3                                                697   \n",
       "4                                                256   \n",
       "\n",
       "                                           HC03_VC04  \\\n",
       "0  Percent; EMPLOYMENT STATUS - Population 16 yea...   \n",
       "1                                               43.2   \n",
       "2                                               46.7   \n",
       "3                                               40.1   \n",
       "4                                               33.3   \n",
       "\n",
       "                         ...                          \\\n",
       "0                        ...                           \n",
       "1                        ...                           \n",
       "2                        ...                           \n",
       "3                        ...                           \n",
       "4                        ...                           \n",
       "\n",
       "                                          HC03_VC178  \\\n",
       "0  Percent; PERCENTAGE OF FAMILIES AND PEOPLE WHO...   \n",
       "1                                               57.1   \n",
       "2                                               43.0   \n",
       "3                                               41.7   \n",
       "4                                               45.1   \n",
       "\n",
       "                                          HC04_VC178  \\\n",
       "0  Percent Margin of Error; PERCENTAGE OF FAMILIE...   \n",
       "1                                                6.1   \n",
       "2                                                4.8   \n",
       "3                                                3.5   \n",
       "4                                               11.7   \n",
       "\n",
       "                                          HC01_VC179  \\\n",
       "0  Estimate; PERCENTAGE OF FAMILIES AND PEOPLE WH...   \n",
       "1                                                (X)   \n",
       "2                                                (X)   \n",
       "3                                                (X)   \n",
       "4                                                (X)   \n",
       "\n",
       "                                          HC02_VC179  \\\n",
       "0  Margin of Error; PERCENTAGE OF FAMILIES AND PE...   \n",
       "1                                                (X)   \n",
       "2                                                (X)   \n",
       "3                                                (X)   \n",
       "4                                                (X)   \n",
       "\n",
       "                                          HC03_VC179  \\\n",
       "0  Percent; PERCENTAGE OF FAMILIES AND PEOPLE WHO...   \n",
       "1                                               59.1   \n",
       "2                                               52.5   \n",
       "3                                               48.0   \n",
       "4                                               63.4   \n",
       "\n",
       "                                          HC04_VC179  \\\n",
       "0  Percent Margin of Error; PERCENTAGE OF FAMILIE...   \n",
       "1                                                4.2   \n",
       "2                                                3.1   \n",
       "3                                                2.7   \n",
       "4                                                7.0   \n",
       "\n",
       "                                          HC01_VC180  \\\n",
       "0  Estimate; PERCENTAGE OF FAMILIES AND PEOPLE WH...   \n",
       "1                                                (X)   \n",
       "2                                                (X)   \n",
       "3                                                (X)   \n",
       "4                                                (X)   \n",
       "\n",
       "                                          HC02_VC180  \\\n",
       "0  Margin of Error; PERCENTAGE OF FAMILIES AND PE...   \n",
       "1                                                (X)   \n",
       "2                                                (X)   \n",
       "3                                                (X)   \n",
       "4                                                (X)   \n",
       "\n",
       "                                          HC03_VC180  \\\n",
       "0  Percent; PERCENTAGE OF FAMILIES AND PEOPLE WHO...   \n",
       "1                                               71.7   \n",
       "2                                               65.8   \n",
       "3                                               62.3   \n",
       "4                                               70.3   \n",
       "\n",
       "                                          HC04_VC180  \n",
       "0  Percent Margin of Error; PERCENTAGE OF FAMILIE...  \n",
       "1                                                5.7  \n",
       "2                                                5.3  \n",
       "3                                                3.3  \n",
       "4                                                9.3  \n",
       "\n",
       "[5 rows x 551 columns]"
      ]
     },
     "execution_count": 14,
     "metadata": {},
     "output_type": "execute_result"
    }
   ],
   "source": [
    "acs = pd.read_csv('acs.csv')\n",
    "# American Community Survey Economic Data\n",
    "acs.head()"
   ]
  },
  {
   "cell_type": "code",
   "execution_count": 15,
   "metadata": {
    "collapsed": true
   },
   "outputs": [],
   "source": [
    "# get incomes and zipcodes out of that monstrosity\n",
    "acs['ZIP code'] = acs['GEO.display-label'].apply(lambda x: x[6:])"
   ]
  },
  {
   "cell_type": "code",
   "execution_count": 16,
   "metadata": {
    "collapsed": true
   },
   "outputs": [],
   "source": [
    "complaints_m = complaints[~pd.isnull(complaints['ZIP code'])]"
   ]
  },
  {
   "cell_type": "code",
   "execution_count": 17,
   "metadata": {
    "collapsed": false
   },
   "outputs": [
    {
     "data": {
      "text/html": [
       "<div>\n",
       "<table border=\"1\" class=\"dataframe\">\n",
       "  <thead>\n",
       "    <tr style=\"text-align: right;\">\n",
       "      <th></th>\n",
       "      <th>ZIP code</th>\n",
       "      <th>HC01_VC118</th>\n",
       "    </tr>\n",
       "  </thead>\n",
       "  <tbody>\n",
       "    <tr>\n",
       "      <th>1</th>\n",
       "      <td>00601</td>\n",
       "      <td>7453</td>\n",
       "    </tr>\n",
       "    <tr>\n",
       "      <th>2</th>\n",
       "      <td>00602</td>\n",
       "      <td>8474</td>\n",
       "    </tr>\n",
       "    <tr>\n",
       "      <th>3</th>\n",
       "      <td>00603</td>\n",
       "      <td>10179</td>\n",
       "    </tr>\n",
       "    <tr>\n",
       "      <th>4</th>\n",
       "      <td>00606</td>\n",
       "      <td>5863</td>\n",
       "    </tr>\n",
       "    <tr>\n",
       "      <th>5</th>\n",
       "      <td>00610</td>\n",
       "      <td>8452</td>\n",
       "    </tr>\n",
       "  </tbody>\n",
       "</table>\n",
       "</div>"
      ],
      "text/plain": [
       "  ZIP code HC01_VC118\n",
       "1    00601       7453\n",
       "2    00602       8474\n",
       "3    00603      10179\n",
       "4    00606       5863\n",
       "5    00610       8452"
      ]
     },
     "execution_count": 17,
     "metadata": {},
     "output_type": "execute_result"
    }
   ],
   "source": [
    "zip_incomes = pd.DataFrame(acs[['ZIP code', 'HC01_VC118']])\n",
    "zip_incomes.drop(0, inplace=True)\n",
    "zip_incomes.head()"
   ]
  },
  {
   "cell_type": "code",
   "execution_count": 18,
   "metadata": {
    "collapsed": false
   },
   "outputs": [],
   "source": [
    "complaints_m = complaints_m[complaints_m['ZIP code'].str.isdigit()]"
   ]
  },
  {
   "cell_type": "code",
   "execution_count": 19,
   "metadata": {
    "collapsed": false
   },
   "outputs": [
    {
     "name": "stdout",
     "output_type": "stream",
     "text": [
      "count    540794.000000\n",
      "mean      32064.791658\n",
      "std       14563.465433\n",
      "min         186.000000\n",
      "25%       22618.000000\n",
      "50%       28767.000000\n",
      "75%       37830.000000\n",
      "max      200387.000000\n",
      "Name: income, dtype: float64\n"
     ]
    }
   ],
   "source": [
    "income_complaints = pd.merge(complaints_m, zip_incomes, how='left', on='ZIP code')\n",
    "income_complaints = income_complaints[~pd.isnull(income_complaints['HC01_VC118'])]\n",
    "income_complaints = income_complaints[income_complaints['HC01_VC118'].str.isdigit()]\n",
    "income_complaints['income'] = income_complaints['HC01_VC118'].apply(lambda x: int(x))\n",
    "print income_complaints['income'].describe()"
   ]
  },
  {
   "cell_type": "code",
   "execution_count": 20,
   "metadata": {
    "collapsed": false
   },
   "outputs": [
    {
     "data": {
      "text/plain": [
       "<matplotlib.axes._subplots.AxesSubplot at 0x112cb3b10>"
      ]
     },
     "execution_count": 20,
     "metadata": {},
     "output_type": "execute_result"
    },
    {
     "data": {
      "image/png": "[encoded data removed]",
      "text/plain": [
       "<matplotlib.figure.Figure at 0x112c14650>"
      ]
     },
     "metadata": {},
     "output_type": "display_data"
    }
   ],
   "source": [
    "sns.kdeplot(income_complaints['income'])"
   ]
  },
  {
   "cell_type": "code",
   "execution_count": 21,
   "metadata": {
    "collapsed": false
   },
   "outputs": [],
   "source": [
    "income_complaints['quintile'] = pd.qcut(income_complaints['income'], q=5, labels=range(5))"
   ]
  },
  {
   "cell_type": "code",
   "execution_count": 22,
   "metadata": {
    "collapsed": false
   },
   "outputs": [
    {
     "data": {
      "text/html": [
       "<div>\n",
       "<table border=\"1\" class=\"dataframe\">\n",
       "  <thead>\n",
       "    <tr style=\"text-align: right;\">\n",
       "      <th>Consumer disputed?</th>\n",
       "      <th>No</th>\n",
       "      <th>Yes</th>\n",
       "    </tr>\n",
       "    <tr>\n",
       "      <th>quintile</th>\n",
       "      <th></th>\n",
       "      <th></th>\n",
       "    </tr>\n",
       "  </thead>\n",
       "  <tbody>\n",
       "    <tr>\n",
       "      <th>0</th>\n",
       "      <td>20.351725</td>\n",
       "      <td>17.927480</td>\n",
       "    </tr>\n",
       "    <tr>\n",
       "      <th>1</th>\n",
       "      <td>20.191062</td>\n",
       "      <td>19.156676</td>\n",
       "    </tr>\n",
       "    <tr>\n",
       "      <th>2</th>\n",
       "      <td>20.170828</td>\n",
       "      <td>19.577165</td>\n",
       "    </tr>\n",
       "    <tr>\n",
       "      <th>3</th>\n",
       "      <td>19.809757</td>\n",
       "      <td>20.849387</td>\n",
       "    </tr>\n",
       "    <tr>\n",
       "      <th>4</th>\n",
       "      <td>19.476628</td>\n",
       "      <td>22.489292</td>\n",
       "    </tr>\n",
       "  </tbody>\n",
       "</table>\n",
       "</div>"
      ],
      "text/plain": [
       "Consumer disputed?         No        Yes\n",
       "quintile                                \n",
       "0                   20.351725  17.927480\n",
       "1                   20.191062  19.156676\n",
       "2                   20.170828  19.577165\n",
       "3                   19.809757  20.849387\n",
       "4                   19.476628  22.489292"
      ]
     },
     "execution_count": 22,
     "metadata": {},
     "output_type": "execute_result"
    }
   ],
   "source": [
    "pd.crosstab(income_complaints['quintile'], [income_complaints['Consumer disputed?']], normalize='columns') * 100"
   ]
  },
  {
   "cell_type": "markdown",
   "metadata": {},
   "source": [
    "Some suspicion confirmed: higher income groups dispute their claims more than lower income groups."
   ]
  },
  {
   "cell_type": "code",
   "execution_count": 23,
   "metadata": {
    "collapsed": false
   },
   "outputs": [
    {
     "data": {
      "text/html": [
       "<div>\n",
       "<table border=\"1\" class=\"dataframe\">\n",
       "  <thead>\n",
       "    <tr style=\"text-align: right;\">\n",
       "      <th>Timely response?</th>\n",
       "      <th>No</th>\n",
       "      <th>Yes</th>\n",
       "    </tr>\n",
       "    <tr>\n",
       "      <th>quintile</th>\n",
       "      <th></th>\n",
       "      <th></th>\n",
       "    </tr>\n",
       "  </thead>\n",
       "  <tbody>\n",
       "    <tr>\n",
       "      <th>0</th>\n",
       "      <td>21.038411</td>\n",
       "      <td>19.975716</td>\n",
       "    </tr>\n",
       "    <tr>\n",
       "      <th>1</th>\n",
       "      <td>21.315905</td>\n",
       "      <td>19.969456</td>\n",
       "    </tr>\n",
       "    <tr>\n",
       "      <th>2</th>\n",
       "      <td>20.578355</td>\n",
       "      <td>20.029975</td>\n",
       "    </tr>\n",
       "    <tr>\n",
       "      <th>3</th>\n",
       "      <td>19.132467</td>\n",
       "      <td>19.981218</td>\n",
       "    </tr>\n",
       "    <tr>\n",
       "      <th>4</th>\n",
       "      <td>17.934862</td>\n",
       "      <td>20.043635</td>\n",
       "    </tr>\n",
       "  </tbody>\n",
       "</table>\n",
       "</div>"
      ],
      "text/plain": [
       "Timely response?         No        Yes\n",
       "quintile                              \n",
       "0                 21.038411  19.975716\n",
       "1                 21.315905  19.969456\n",
       "2                 20.578355  20.029975\n",
       "3                 19.132467  19.981218\n",
       "4                 17.934862  20.043635"
      ]
     },
     "execution_count": 23,
     "metadata": {},
     "output_type": "execute_result"
    }
   ],
   "source": [
    "pd.crosstab(income_complaints['quintile'], [income_complaints['Timely response?']], normalize='columns') * 100"
   ]
  },
  {
   "cell_type": "markdown",
   "metadata": {},
   "source": [
    "Higher income consumers also receive fewer untimely responses and lower income customers receive more."
   ]
  },
  {
   "cell_type": "code",
   "execution_count": 24,
   "metadata": {
    "collapsed": false
   },
   "outputs": [
    {
     "data": {
      "text/html": [
       "<div>\n",
       "<table border=\"1\" class=\"dataframe\">\n",
       "  <thead>\n",
       "    <tr style=\"text-align: right;\">\n",
       "      <th>Product</th>\n",
       "      <th>Bank account or service</th>\n",
       "      <th>Consumer Loan</th>\n",
       "      <th>Credit card</th>\n",
       "      <th>Credit reporting</th>\n",
       "      <th>Debt collection</th>\n",
       "      <th>Money transfers</th>\n",
       "      <th>Mortgage</th>\n",
       "      <th>Other financial service</th>\n",
       "      <th>Payday loan</th>\n",
       "      <th>Prepaid card</th>\n",
       "      <th>Student loan</th>\n",
       "      <th>Virtual currency</th>\n",
       "    </tr>\n",
       "    <tr>\n",
       "      <th>quintile</th>\n",
       "      <th></th>\n",
       "      <th></th>\n",
       "      <th></th>\n",
       "      <th></th>\n",
       "      <th></th>\n",
       "      <th></th>\n",
       "      <th></th>\n",
       "      <th></th>\n",
       "      <th></th>\n",
       "      <th></th>\n",
       "      <th></th>\n",
       "      <th></th>\n",
       "    </tr>\n",
       "  </thead>\n",
       "  <tbody>\n",
       "    <tr>\n",
       "      <th>0</th>\n",
       "      <td>21.442347</td>\n",
       "      <td>23.259526</td>\n",
       "      <td>16.008748</td>\n",
       "      <td>22.785906</td>\n",
       "      <td>22.225419</td>\n",
       "      <td>24.076281</td>\n",
       "      <td>17.840777</td>\n",
       "      <td>27.805695</td>\n",
       "      <td>26.581172</td>\n",
       "      <td>27.531807</td>\n",
       "      <td>17.638545</td>\n",
       "      <td>0.0</td>\n",
       "    </tr>\n",
       "    <tr>\n",
       "      <th>1</th>\n",
       "      <td>18.930412</td>\n",
       "      <td>21.972194</td>\n",
       "      <td>17.893611</td>\n",
       "      <td>20.452002</td>\n",
       "      <td>21.710779</td>\n",
       "      <td>20.619785</td>\n",
       "      <td>19.658181</td>\n",
       "      <td>19.932998</td>\n",
       "      <td>23.433401</td>\n",
       "      <td>20.508906</td>\n",
       "      <td>20.514985</td>\n",
       "      <td>0.0</td>\n",
       "    </tr>\n",
       "    <tr>\n",
       "      <th>2</th>\n",
       "      <td>18.081507</td>\n",
       "      <td>19.860968</td>\n",
       "      <td>18.903696</td>\n",
       "      <td>20.625119</td>\n",
       "      <td>20.726250</td>\n",
       "      <td>18.951132</td>\n",
       "      <td>20.465793</td>\n",
       "      <td>16.917923</td>\n",
       "      <td>20.693675</td>\n",
       "      <td>17.251908</td>\n",
       "      <td>20.876802</td>\n",
       "      <td>50.0</td>\n",
       "    </tr>\n",
       "    <tr>\n",
       "      <th>3</th>\n",
       "      <td>19.357235</td>\n",
       "      <td>18.321318</td>\n",
       "      <td>21.737283</td>\n",
       "      <td>18.247936</td>\n",
       "      <td>18.874398</td>\n",
       "      <td>17.282479</td>\n",
       "      <td>21.211751</td>\n",
       "      <td>17.252931</td>\n",
       "      <td>17.167007</td>\n",
       "      <td>16.793893</td>\n",
       "      <td>21.286860</td>\n",
       "      <td>0.0</td>\n",
       "    </tr>\n",
       "    <tr>\n",
       "      <th>4</th>\n",
       "      <td>22.188498</td>\n",
       "      <td>16.585994</td>\n",
       "      <td>25.456662</td>\n",
       "      <td>17.889037</td>\n",
       "      <td>16.463155</td>\n",
       "      <td>19.070322</td>\n",
       "      <td>20.823497</td>\n",
       "      <td>18.090452</td>\n",
       "      <td>12.124745</td>\n",
       "      <td>17.913486</td>\n",
       "      <td>19.682808</td>\n",
       "      <td>50.0</td>\n",
       "    </tr>\n",
       "  </tbody>\n",
       "</table>\n",
       "</div>"
      ],
      "text/plain": [
       "Product   Bank account or service  Consumer Loan  Credit card  \\\n",
       "quintile                                                        \n",
       "0                       21.442347      23.259526    16.008748   \n",
       "1                       18.930412      21.972194    17.893611   \n",
       "2                       18.081507      19.860968    18.903696   \n",
       "3                       19.357235      18.321318    21.737283   \n",
       "4                       22.188498      16.585994    25.456662   \n",
       "\n",
       "Product   Credit reporting  Debt collection  Money transfers   Mortgage  \\\n",
       "quintile                                                                  \n",
       "0                22.785906        22.225419        24.076281  17.840777   \n",
       "1                20.452002        21.710779        20.619785  19.658181   \n",
       "2                20.625119        20.726250        18.951132  20.465793   \n",
       "3                18.247936        18.874398        17.282479  21.211751   \n",
       "4                17.889037        16.463155        19.070322  20.823497   \n",
       "\n",
       "Product   Other financial service  Payday loan  Prepaid card  Student loan  \\\n",
       "quintile                                                                     \n",
       "0                       27.805695    26.581172     27.531807     17.638545   \n",
       "1                       19.932998    23.433401     20.508906     20.514985   \n",
       "2                       16.917923    20.693675     17.251908     20.876802   \n",
       "3                       17.252931    17.167007     16.793893     21.286860   \n",
       "4                       18.090452    12.124745     17.913486     19.682808   \n",
       "\n",
       "Product   Virtual currency  \n",
       "quintile                    \n",
       "0                      0.0  \n",
       "1                      0.0  \n",
       "2                     50.0  \n",
       "3                      0.0  \n",
       "4                     50.0  "
      ]
     },
     "execution_count": 24,
     "metadata": {},
     "output_type": "execute_result"
    }
   ],
   "source": [
    "pd.crosstab(income_complaints['quintile'], [income_complaints['Product']], normalize='columns') * 100"
   ]
  },
  {
   "cell_type": "markdown",
   "metadata": {},
   "source": [
    "The product distributions between income quintiles varies. Some food for thought: the ones lower income groups have more complaints about also have higher rates of untimely responses--these could be connected."
   ]
  },
  {
   "cell_type": "markdown",
   "metadata": {},
   "source": [
    "Overall it looks like there are some trends that we can exploit to predict whether a response will be disputed or not."
   ]
  },
  {
   "cell_type": "code",
   "execution_count": null,
   "metadata": {
    "collapsed": true
   },
   "outputs": [],
   "source": [
    ""
   ]
  }
 ],
 "metadata": {
  "kernelspec": {
   "display_name": "Python 2",
   "language": "python",
   "name": "python2"
  },
  "language_info": {
   "codemirror_mode": {
    "name": "ipython",
    "version": 2.0
   },
   "file_extension": ".py",
   "mimetype": "text/x-python",
   "name": "python",
   "nbconvert_exporter": "python",
   "pygments_lexer": "ipython2",
   "version": "2.7.10"
  }
 },
 "nbformat": 4,
 "nbformat_minor": 0
}
