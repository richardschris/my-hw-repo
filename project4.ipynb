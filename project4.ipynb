{
 "cells": [
  {
   "cell_type": "markdown",
   "metadata": {},
   "source": [
    "# Project 4\n",
    "\n",
    "In this project, you will summarize and present your analysis from Projects 1-3."
   ]
  },
  {
   "cell_type": "markdown",
   "metadata": {},
   "source": [
    "### Intro: Write a problem Statement/ Specific Aim for this project"
   ]
  },
  {
   "cell_type": "markdown",
   "metadata": {},
   "source": [
    "Answer: We wish to determine how strongly undergraduate university prestige is correlated with graduate school admissions."
   ]
  },
  {
   "cell_type": "markdown",
   "metadata": {},
   "source": [
    "### Dataset:  Write up a description of your data and any cleaning that was completed"
   ]
  },
  {
   "cell_type": "markdown",
   "metadata": {},
   "source": [
    "Answer: Our data is a CSV consisting of an outcome (admission status), GRE scores, GPAs, and undergraduate prestige. There are 400 admission statuses, but not all rows are complete. We drop them rather than fill, because there are very few."
   ]
  },
  {
   "cell_type": "markdown",
   "metadata": {
    "collapsed": true
   },
   "source": [
    "### Demo: Provide a table that explains the data by admission status"
   ]
  },
  {
   "cell_type": "code",
   "execution_count": 16,
   "metadata": {
    "collapsed": false
   },
   "outputs": [
    {
     "name": "stdout",
     "output_type": "stream",
     "text": [
      "       admit         gre         gpa  prestige_1.0  prestige_2.0  \\\n",
      "count  273.0  271.000000  272.000000    273.000000    273.000000   \n",
      "mean     0.0  573.579336    3.345404      0.102564      0.355311   \n",
      "std      0.0  116.052798    0.376773      0.303946      0.479487   \n",
      "min      0.0  220.000000    2.260000      0.000000      0.000000   \n",
      "25%      0.0  500.000000    3.080000      0.000000      0.000000   \n",
      "50%      0.0  580.000000    3.340000      0.000000      0.000000   \n",
      "75%      0.0  660.000000    3.610000      0.000000      1.000000   \n",
      "max      0.0  800.000000    4.000000      1.000000      1.000000   \n",
      "\n",
      "       prestige_3.0  prestige_4.0  \n",
      "count    273.000000    273.000000  \n",
      "mean       0.340659      0.201465  \n",
      "std        0.474801      0.401831  \n",
      "min        0.000000      0.000000  \n",
      "25%        0.000000      0.000000  \n",
      "50%        0.000000      0.000000  \n",
      "75%        1.000000      0.000000  \n",
      "max        1.000000      1.000000  \n",
      "       admit         gre         gpa  prestige_1.0  prestige_2.0  \\\n",
      "count  127.0  127.000000  126.000000    127.000000    127.000000   \n",
      "mean     1.0  618.897638    3.489206      0.259843      0.417323   \n",
      "std      0.0  108.884884    0.371655      0.440285      0.495070   \n",
      "min      1.0  300.000000    2.420000      0.000000      0.000000   \n",
      "25%      1.0  540.000000    3.220000      0.000000      0.000000   \n",
      "50%      1.0  620.000000    3.545000      0.000000      0.000000   \n",
      "75%      1.0  680.000000    3.757500      1.000000      1.000000   \n",
      "max      1.0  800.000000    4.000000      1.000000      1.000000   \n",
      "\n",
      "       prestige_3.0  prestige_4.0  \n",
      "count    127.000000    127.000000  \n",
      "mean       0.220472      0.094488  \n",
      "std        0.416207      0.293665  \n",
      "min        0.000000      0.000000  \n",
      "25%        0.000000      0.000000  \n",
      "50%        0.000000      0.000000  \n",
      "75%        0.000000      0.000000  \n",
      "max        1.000000      1.000000  \n"
     ]
    }
   ],
   "source": [
    "import pandas as pd\n",
    "df = pd.read_csv(\"admissions.csv\")\n",
    "df = pd.get_dummies(df, columns=['prestige'], prefix='prestige')\n",
    "# non-admissions\n",
    "print df.loc[df['admit'] == 0].describe()\n",
    "# admissions\n",
    "print df.loc[df['admit'] == 1].describe()"
   ]
  },
  {
   "cell_type": "markdown",
   "metadata": {},
   "source": [
    "Mean (STD) or counts by admission status for each variable\n",
    "\n",
    "| Not Admitted | Admitted\n",
    "---| ---|---\n",
    "GPA | 574 (116)  | 619 (109) \n",
    "GRE | 3.35 (0.37) | 3.49 (0.37)\n",
    "Prestige 1 | 10.3% (%) | 26% (%)\n",
    "Prestige 2 | 35.5% (%) | 41.7% (%)\n",
    "Prestige 3 | 34.1% (%) | 22% (%)\n",
    "Prestige 4 | 20.1% (%) | 9.4% (%)"
   ]
  },
  {
   "cell_type": "markdown",
   "metadata": {},
   "source": [
    "### Methods: Write up the methods used in your analysis"
   ]
  },
  {
   "cell_type": "markdown",
   "metadata": {},
   "source": [
    "Answer: To analyze this data, we choose a logistic regression to model our data. Our outcome is admission; our variables are prestige, GRE, and GPA. If the hypothesis is correct, prestige should have an outsize impact on admission."
   ]
  },
  {
   "cell_type": "markdown",
   "metadata": {},
   "source": [
    "### Results: Write up your results"
   ]
  },
  {
   "cell_type": "markdown",
   "metadata": {},
   "source": [
    "Answer: Our hypothesis was correct: prestige has a larger impact on admission than GRE or GPA. The model predicted that someone who attended a prestige=1 school is twice as likely to be admitted to graduate school than someone from a prestige=2 school, holding all else fixed. We can see this from the coefficients of our regression; the coefficients of prestige=4 is -1.55, indicating that if someone attended a prestige=4 school, their admission odds drop preciptiously."
   ]
  },
  {
   "cell_type": "markdown",
   "metadata": {},
   "source": [
    "### Visuals: Provide a table or visualization of these results"
   ]
  },
  {
   "cell_type": "markdown",
   "metadata": {},
   "source": [
    "<img src=\"gre_vs_predictions.png\">"
   ]
  },
  {
   "cell_type": "markdown",
   "metadata": {},
   "source": [
    "<img src='gpa_vs_predictions.png'>"
   ]
  },
  {
   "cell_type": "markdown",
   "metadata": {},
   "source": [
    "### Discussion: Write up your discussion and future steps"
   ]
  },
  {
   "cell_type": "markdown",
   "metadata": {},
   "source": [
    "Answer: As we can see from these two graphs, at every point, prestige=1 students have a higher chance of being admitted to graduate school. Furthermore, you can see from the general _shape_ of the lines (plus comparing them together) that GRE and GPA don't have an outsize impact vs prestige--that the shapes are similar, indeed, nearly identical, indicates that GRE and GPA follow the same pattern: they raise your chances of admission, but do not control it. Witness prestige=4 students with high GRE scores and GPAs, whose predicted probability of admission in either chart barely surpasses those of the prestige=1 students with low GREs and GPAs. \n",
    "\n",
    "A future direction could be to join this data set with other, relevant data sets: race, age, family income, etc. could all provide further insight into admissions. Furthermore, other models, such as decision trees, may prove fruitful as well."
   ]
  },
  {
   "cell_type": "code",
   "execution_count": null,
   "metadata": {
    "collapsed": true
   },
   "outputs": [],
   "source": []
  }
 ],
 "metadata": {
  "kernelspec": {
   "display_name": "Python 2",
   "language": "python",
   "name": "python2"
  },
  "language_info": {
   "codemirror_mode": {
    "name": "ipython",
    "version": 2
   },
   "file_extension": ".py",
   "mimetype": "text/x-python",
   "name": "python",
   "nbconvert_exporter": "python",
   "pygments_lexer": "ipython2",
   "version": "2.7.10"
  }
 },
 "nbformat": 4,
 "nbformat_minor": 0
}
